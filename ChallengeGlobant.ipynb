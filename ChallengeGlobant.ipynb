{
 "cells": [
  {
   "cell_type": "code",
   "execution_count": 1,
   "id": "7e131e50-c3d4-4284-a3e6-75d2cd6bd1a6",
   "metadata": {},
   "outputs": [],
   "source": [
    "import pandas as pd\n",
    "import numpy as np"
   ]
  },
  {
   "cell_type": "markdown",
   "id": "44088d7c-8f49-4491-a78e-8f9e930378da",
   "metadata": {},
   "source": [
    "## Challenge 2"
   ]
  },
  {
   "cell_type": "markdown",
   "id": "81a1266e-4050-4a0f-a0ef-aaecc9d508a1",
   "metadata": {},
   "source": [
    "## Report 1"
   ]
  },
  {
   "cell_type": "code",
   "execution_count": 2,
   "id": "ba690fa5-a914-4564-b7a9-a27bb1706bd5",
   "metadata": {},
   "outputs": [],
   "source": [
    "df_departaments = pd.read_csv('/Users/Cristiam/Documents/Globant/departments.csv', sep=',', header=None, names =['Id','Departament'])\n",
    "df_employees = pd.read_csv('/Users/Cristiam/Documents/Globant/hired_employees.csv', sep=',', header=None, names =['Id','Name','Datetime','Departament_id','Job_id'])\n",
    "df_jobs = pd.read_csv('/Users/Cristiam/Documents/Globant/jobs.csv', sep=',', header=None, names =['Id','Job'])"
   ]
  },
  {
   "cell_type": "code",
   "execution_count": 3,
   "id": "0523b660-354c-4faf-a46b-cab53d297d08",
   "metadata": {},
   "outputs": [],
   "source": [
    "df_employees['Datetime'] = pd.to_datetime(df_employees['Datetime'])\n",
    "df_employees2021 = df_employees[df_employees['Datetime'].dt.strftime('%Y') == '2021']"
   ]
  },
  {
   "cell_type": "code",
   "execution_count": 4,
   "id": "7d8303bd-72ae-481b-9bcf-bad6bde71e2b",
   "metadata": {},
   "outputs": [],
   "source": [
    "df_employees2021dpt = pd.merge(df_employees2021, df_departaments, left_on='Departament_id', right_on='Id',how='left')\n",
    "dfEmp2021 = pd.merge(df_employees2021dpt, df_jobs, left_on='Job_id', right_on='Id',how='left')"
   ]
  },
  {
   "cell_type": "code",
   "execution_count": 5,
   "id": "2a8591b5-de99-4e88-8b8c-4ed07a39531e",
   "metadata": {},
   "outputs": [],
   "source": [
    "dfEmp2021['Quarter'] = dfEmp2021['Datetime'].dt.quarter"
   ]
  },
  {
   "cell_type": "code",
   "execution_count": 6,
   "id": "898f43c1-c56a-42c6-91c3-b95fd32e510a",
   "metadata": {},
   "outputs": [],
   "source": [
    "pt = pd.pivot_table(dfEmp2021, values='Name', index=['Departament','Job'],\n",
    "                    columns=['Quarter'], aggfunc=\"count\", fill_value=0)"
   ]
  },
  {
   "cell_type": "code",
   "execution_count": 7,
   "id": "c8c41e21-cce9-4309-bb86-3e8768fb8143",
   "metadata": {},
   "outputs": [
    {
     "name": "stdout",
     "output_type": "stream",
     "text": [
      "Report #1: \n",
      "\n",
      "Quarter                                    1  2  3  4\n",
      "Departament Job                                      \n",
      "Accounting  Account Representative IV      1  0  0  0\n",
      "            Actuary                        0  1  0  0\n",
      "            Analyst Programmer             0  0  1  0\n",
      "            Budget/Accounting Analyst III  0  1  0  0\n",
      "            Cost Accountant                0  1  0  0\n",
      "...                                       .. .. .. ..\n",
      "Training    Teacher                        0  2  0  0\n",
      "            Technical Writer               0  0  1  0\n",
      "            VP Product Management          1  0  0  0\n",
      "            VP Quality Control             0  1  0  0\n",
      "            Web Developer III              0  1  0  0\n",
      "\n",
      "[938 rows x 4 columns]\n"
     ]
    }
   ],
   "source": [
    "print('Report #1: \\n')\n",
    "print(pt)\n",
    "pt.to_csv('/Users/Cristiam/Documents/Globant/challenge/projectNotebbok/challenge1.csv', sep=',')"
   ]
  },
  {
   "cell_type": "markdown",
   "id": "c9d95ff0-6143-46cc-a880-3e63eb748886",
   "metadata": {},
   "source": [
    "## Report 2"
   ]
  },
  {
   "cell_type": "code",
   "execution_count": 8,
   "id": "f26cf955-4a24-443d-8cd0-3a2bd8de2541",
   "metadata": {},
   "outputs": [],
   "source": [
    "mean2021 = dfEmp2021.groupby(by = [\"Departament\"]).count()[\"Id_x\"].mean()"
   ]
  },
  {
   "cell_type": "code",
   "execution_count": 9,
   "id": "f76cdf0d-5651-44d7-9723-dc8d27f454e8",
   "metadata": {},
   "outputs": [],
   "source": [
    "df_employees_t = pd.merge(df_employees, df_departaments, left_on='Departament_id', right_on='Id',how='left')\n",
    "dfEmp_total = pd.merge(df_employees_t, df_jobs, left_on='Job_id', right_on='Id',how='left')"
   ]
  },
  {
   "cell_type": "code",
   "execution_count": 10,
   "id": "ca267c58-f011-444c-9c75-60a147ecfd58",
   "metadata": {},
   "outputs": [],
   "source": [
    "dfCant = dfEmp_total.groupby(by = [\"Departament_id\",\"Departament\"]).count()[\"Id_x\"]"
   ]
  },
  {
   "cell_type": "code",
   "execution_count": 11,
   "id": "9ae070f7-2d1b-472e-9158-9f4fa60b0f35",
   "metadata": {},
   "outputs": [],
   "source": [
    "dfChallenge2 = dfCant[dfCant>mean2021].sort_values(ascending=False)"
   ]
  },
  {
   "cell_type": "code",
   "execution_count": 12,
   "id": "defd452b-ed68-4659-9790-ec2da8d36711",
   "metadata": {},
   "outputs": [
    {
     "name": "stdout",
     "output_type": "stream",
     "text": [
      "Report #2: \n",
      "\n",
      "Departament_id  Departament             \n",
      "8.0             Support                     256\n",
      "6.0             Human Resources             249\n",
      "5.0             Engineering                 245\n",
      "7.0             Services                    240\n",
      "4.0             Business Development        222\n",
      "3.0             Research and Development    178\n",
      "9.0             Marketing                   166\n",
      "10.0            Training                    141\n",
      "Name: Id_x, dtype: int64\n"
     ]
    }
   ],
   "source": [
    "print('Report #2: \\n')\n",
    "print(dfChallenge2)\n",
    "dfChallenge2.to_csv('/Users/Cristiam/Documents/Globant/challenge/projectNotebbok/challenge2.csv', sep=',')"
   ]
  }
 ],
 "metadata": {
  "kernelspec": {
   "display_name": "Python 3 (ipykernel)",
   "language": "python",
   "name": "python3"
  },
  "language_info": {
   "codemirror_mode": {
    "name": "ipython",
    "version": 3
   },
   "file_extension": ".py",
   "mimetype": "text/x-python",
   "name": "python",
   "nbconvert_exporter": "python",
   "pygments_lexer": "ipython3",
   "version": "3.11.7"
  }
 },
 "nbformat": 4,
 "nbformat_minor": 5
}
